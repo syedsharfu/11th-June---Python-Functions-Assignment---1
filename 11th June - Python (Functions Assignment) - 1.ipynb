{
 "cells": [
  {
   "cell_type": "raw",
   "id": "109fd9c9-7619-4ba2-a3fd-5dacefaf757e",
   "metadata": {},
   "source": [
    "1. What is a lambda function in Python, and how does it differ from a regular function?"
   ]
  },
  {
   "cell_type": "raw",
   "id": "5e043eaa-c5ee-4025-b711-af8f345c653b",
   "metadata": {},
   "source": [
    "here are some key points about lambda functions in Python, each point is a one-liner:\n",
    "\n",
    "Lambda functions are small, anonymous functions defined with the lambda keyword.\n",
    "They can take any number of arguments but can only have one expression.\n",
    "The expression is evaluated and returned when the function is called.\n",
    "Lambda functions do not require a return statement, the expression is implicitly returned.\n",
    "They can be used wherever function objects are required, like inside functions like map(), filter(), and reduce().\n",
    "You can't include statements like loops, if, or else in lambda functions; only expressions are allowed.\n",
    "Lambda functions are useful for small tasks that are not reused throughout your code.\n",
    "They can be assigned to variables and used like regular functions.\n",
    "Lambda functions in Python are anonymous, one-line functions defined using the lambda keyword. They are also known as anonymous functions because they don't require a name like regular functions defined using def. Lambda functions are typically used for short-lived, simple operations where a full function definition would be overkill.\n",
    "\n",
    "lambda arguments: expression\n",
    "\n",
    "Here, arguments are the input parameters, and expression is a single expression that the function evaluates and returns. Lambda functions are often used for small operations where defining a regular function seems unnecessary."
   ]
  },
  {
   "cell_type": "raw",
   "id": "0c3047c3-2ded-4ff1-a9c1-77b727ef1c14",
   "metadata": {},
   "source": [
    "2. Can a lambda function in Python have multiple arguments? If yes, how can you define and use them?"
   ]
  },
  {
   "cell_type": "code",
   "execution_count": 2,
   "id": "d889e190-4123-404f-bf59-66decdd3153f",
   "metadata": {},
   "outputs": [
    {
     "name": "stdout",
     "output_type": "stream",
     "text": [
      "8\n"
     ]
    }
   ],
   "source": [
    "# Yes, a lambda function in Python can have multiple arguments. The syntax for a lambda function with multiple arguments is:\n",
    "lambda arg1, arg2, : expression\n",
    "# Here's an example of a lambda function with two arguments:\n",
    "add = lambda x, y: x + y\n",
    "print(add(3, 5))  # Outputs: 8\n",
    "# In this example, the lambda function takes two arguments (x and y) and returns their sum.\n",
    "\n",
    "# It's important to note that while lambda functions can have multiple arguments, they are designed for simplicity. If you find yourself needing more complex logic or additional statements, it may be more appropriate to use a regular function defined with the def keyword."
   ]
  },
  {
   "cell_type": "raw",
   "id": "f9a560ec-699a-4447-827a-25ab6f5cb091",
   "metadata": {},
   "source": [
    "3. How are lambda functions typically used in Python? Provide an example use case."
   ]
  },
  {
   "cell_type": "raw",
   "id": "9507d9bd-d893-44f0-9c4a-5fffa81ece7b",
   "metadata": {},
   "source": [
    "Lambda functions in Python are typically used in situations where a small, anonymous function is required for a short-lived operation. They are often employed in conjunction with higher-order functions like map(), filter(), and sorted(), as well as in scenarios where a function is needed as an argument."
   ]
  },
  {
   "cell_type": "code",
   "execution_count": 3,
   "id": "00c1abc6-0b0c-4f22-8a7e-b9a924d1bdec",
   "metadata": {},
   "outputs": [
    {
     "name": "stdout",
     "output_type": "stream",
     "text": [
      "[1, 4, 9, 16, 25]\n"
     ]
    }
   ],
   "source": [
    "# Using map() with a lambda function to square each element in a list\n",
    "numbers = [1, 2, 3, 4, 5]\n",
    "squared_numbers = list(map(lambda x: x ** 2, numbers))\n",
    "print(squared_numbers)  # Outputs: [1, 4, 9, 16, 25]\n"
   ]
  },
  {
   "cell_type": "raw",
   "id": "3fcef1bf-418a-4068-bbdf-3309a99770ef",
   "metadata": {},
   "source": [
    "4. What are the advantages and limitations of lambda functions compared to regular functions in Python?"
   ]
  },
  {
   "cell_type": "raw",
   "id": "098a8e7c-ff9f-4084-871e-bd9e8e89b1c7",
   "metadata": {},
   "source": [
    "Advantages of Lambda Functions: Conciseness: Lambda functions provide a concise way to express simple operations in a single line of code. This can make the code more readable when the function's purpose is straightforward.\n",
    "Anonymous Function: Lambda functions are anonymous, meaning they do not require a formal name. This is useful for short-lived operations where a full function definition would be unnecessarily verbose.\n",
    "Inline Usage: Lambda functions are often used inline, especially with higher-order functions like map(), filter(), and sorted(). This allows for a more functional programming style.\n",
    "Quick Prototyping: Lambda functions are convenient for quick prototyping and testing, allowing developers to experiment with functionality without the need for a complete function definition.\n",
    "Limitations of Lambda Functions:\n",
    "Limited Complexity: Lambda functions are designed for simplicity. They are restricted to a single expression and cannot include multiple statements or complex logic. For more intricate functionality, regular functions defined with def are more appropriate.\n",
    "No Documentation String: Lambda functions do not support documentation strings (docstrings). Docstrings are used to document the purpose and usage of a function, aiding in code documentation and readability.\n",
    "Readability for Complex Operations: For more complex operations, lambda functions might reduce code readability compared to regular functions. Regular functions provide a clearer structure and allow for more descriptive names.\n",
    "Limited Reusability: Lambda functions are best suited for short-lived and specific use cases. They lack the reusability and organization that regular functions provide. If a function needs to be used in multiple places or requires more elaborate logic, a regular function is preferable."
   ]
  },
  {
   "cell_type": "raw",
   "id": "657922e1-2189-4032-b053-98847ca997e4",
   "metadata": {},
   "source": [
    "5. Are lambda functions in Python able to access variables defined outside of their own scope? Explain with an example."
   ]
  },
  {
   "cell_type": "raw",
   "id": "8376e156-4da7-4fd0-bcd5-3bb03748ea8a",
   "metadata": {
    "tags": []
   },
   "source": [
    "Yes, lambda functions in Python can access variables defined outside of their own scope. This behavior is known as \"closure.\" A closure allows a function, in this case, a lambda function, to capture and remember the values of the variables in the enclosing (outer) scope, even if the lambda function is called outside that scope.\n",
    "Here's an example to illustrate the concept of closure with a lambda function:"
   ]
  },
  {
   "cell_type": "code",
   "execution_count": 4,
   "id": "c3e7b61b-10c2-47e6-abea-baebbb56dae9",
   "metadata": {},
   "outputs": [
    {
     "name": "stdout",
     "output_type": "stream",
     "text": [
      "15\n"
     ]
    }
   ],
   "source": [
    "def outer_function(x):\n",
    "    inner_lambda = lambda y: x + y\n",
    "    return inner_lambda\n",
    "closure_instance = outer_function(10)\n",
    "result = closure_instance(5)\n",
    "\n",
    "print(result)"
   ]
  },
  {
   "cell_type": "raw",
   "id": "f9d0daa6-4715-4ef7-a086-c79d06ea0c1c",
   "metadata": {},
   "source": [
    "6. Write a lambda function to calculate the square of a given number"
   ]
  },
  {
   "cell_type": "code",
   "execution_count": 5,
   "id": "1cb0bbd4-7c8c-4fe3-a72c-014397bb3439",
   "metadata": {},
   "outputs": [
    {
     "name": "stdout",
     "output_type": "stream",
     "text": [
      "The square of 5 is: 25\n"
     ]
    }
   ],
   "source": [
    "square = lambda x: x ** 2\n",
    "number = 5\n",
    "result = square(number)\n",
    "print(f\"The square of {number} is: {result}\")\n"
   ]
  },
  {
   "cell_type": "raw",
   "id": "fd384c29-bead-423a-8753-831036fec9c3",
   "metadata": {},
   "source": [
    "7. Create a lambda function to find the maximum value in a list of integers."
   ]
  },
  {
   "cell_type": "code",
   "execution_count": 6,
   "id": "5aaabd5e-6a73-4d15-9d99-09aba306e278",
   "metadata": {},
   "outputs": [
    {
     "name": "stdout",
     "output_type": "stream",
     "text": [
      "The maximum value in the list is: 10\n"
     ]
    }
   ],
   "source": [
    "find_max = lambda lst: max(lst)\n",
    "numbers = [3, 8, 2, 10, 5]\n",
    "max_value = find_max(numbers)\n",
    "print(f\"The maximum value in the list is: {max_value}\")"
   ]
  },
  {
   "cell_type": "raw",
   "id": "6634b822-82a5-4117-b4a8-b2c2644da152",
   "metadata": {},
   "source": [
    "8. Implement a lambda function to filter out all the even numbers from a list of integers."
   ]
  },
  {
   "cell_type": "code",
   "execution_count": 8,
   "id": "c0ccb76c-f895-4eb1-abae-a29f47fce127",
   "metadata": {},
   "outputs": [
    {
     "name": "stdout",
     "output_type": "stream",
     "text": [
      "The list after filtering out even numbers: [1, 3, 5, 7, 9]\n"
     ]
    }
   ],
   "source": [
    "filter_even = lambda lst: list(filter(lambda x: x % 2 != 0, lst))\n",
    "numbers = [1, 2, 3, 4, 5, 6, 7, 8, 9, 10]\n",
    "filtered_odd_numbers = filter_even(numbers)\n",
    "\n",
    "print(f\"The list after filtering out even numbers: {filtered_odd_numbers}\")\n"
   ]
  },
  {
   "cell_type": "raw",
   "id": "5ab29075-c615-46a2-b6c0-f721806cc04f",
   "metadata": {},
   "source": [
    "9.  Write a lambda function to sort a list of strings in ascending order based on the length of each string."
   ]
  },
  {
   "cell_type": "code",
   "execution_count": 9,
   "id": "cf0562ca-66ff-4e62-8f12-e04fae016976",
   "metadata": {},
   "outputs": [
    {
     "name": "stdout",
     "output_type": "stream",
     "text": [
      "The list of words sorted by length: ['kiwi', 'apple', 'grape', 'banana', 'orange']\n"
     ]
    }
   ],
   "source": [
    "sort_by_length = lambda str_list: sorted(str_list, key=lambda x: len(x))\n",
    "\n",
    "words = [\"apple\", \"banana\", \"kiwi\", \"orange\", \"grape\"]\n",
    "sorted_words = sort_by_length(words)\n",
    "print(f\"The list of words sorted by length: {sorted_words}\")\n"
   ]
  },
  {
   "cell_type": "raw",
   "id": "3254248d-3646-430d-b310-cecbddbbca9d",
   "metadata": {},
   "source": [
    "10. Create a lambda function that takes two lists as input and returns a new list containing the common elements between the two lists."
   ]
  },
  {
   "cell_type": "code",
   "execution_count": 10,
   "id": "80b16fc9-fa05-49c7-b12c-9e55f44b3e37",
   "metadata": {},
   "outputs": [
    {
     "name": "stdout",
     "output_type": "stream",
     "text": [
      "The common elements between the two lists are: [3, 4, 5]\n"
     ]
    }
   ],
   "source": [
    "find_common_elements = lambda list1, list2: list(filter(lambda x: x in list1, list2))\n",
    "list_a = [1, 2, 3, 4, 5]\n",
    "list_b = [3, 4, 5, 6, 7]\n",
    "common_elements = find_common_elements(list_a, list_b)\n",
    "print(f\"The common elements between the two lists are: {common_elements}\")\n"
   ]
  },
  {
   "cell_type": "raw",
   "id": "a1468a5d-3425-4e85-a2ad-254821252028",
   "metadata": {},
   "source": [
    "11. Write a recursive function to calculate the factorial of a given positive integer"
   ]
  },
  {
   "cell_type": "code",
   "execution_count": 11,
   "id": "5e1e7e0c-71ee-4c76-a607-2ea6e6e06957",
   "metadata": {},
   "outputs": [
    {
     "name": "stdout",
     "output_type": "stream",
     "text": [
      "The factorial of 5 is: 120\n"
     ]
    }
   ],
   "source": [
    "def factorial(n):\n",
    "    if n == 0 or n == 1:\n",
    "        return 1\n",
    "    else:\n",
    "        return n * factorial(n - 1)\n",
    "number = 5\n",
    "result = factorial(number)\n",
    "print(f\"The factorial of {number} is: {result}\")\n"
   ]
  },
  {
   "cell_type": "raw",
   "id": "c6d7f6e3-812b-4c8d-b8f3-16dcafb56835",
   "metadata": {},
   "source": [
    "12. Implement a recursive function to compute the nth Fibonacci number"
   ]
  },
  {
   "cell_type": "code",
   "execution_count": 13,
   "id": "abb73157-1ac5-48a6-b483-e03859502e1d",
   "metadata": {},
   "outputs": [
    {
     "name": "stdout",
     "output_type": "stream",
     "text": [
      "The 6-th Fibonacci number is: 8\n"
     ]
    }
   ],
   "source": [
    "def fibonacci(n):\n",
    "    if n == 0:\n",
    "        return 0\n",
    "    elif n == 1:\n",
    "        return 1\n",
    "    else:\n",
    "        return fibonacci(n - 1) + fibonacci(n - 2)\n",
    "n_value = 6\n",
    "fibonacci_result = fibonacci(n_value)\n",
    "print(f\"The {n_value}-th Fibonacci number is: {fibonacci_result}\")\n"
   ]
  },
  {
   "cell_type": "raw",
   "id": "0017f208-6679-42c1-be5a-6c81bf33b671",
   "metadata": {},
   "source": [
    "13. Create a recursive function to find the sum of all the elements in a given list."
   ]
  },
  {
   "cell_type": "code",
   "execution_count": 14,
   "id": "10d2b22f-4bd1-4b2a-bdd0-8415d2476fab",
   "metadata": {},
   "outputs": [
    {
     "name": "stdout",
     "output_type": "stream",
     "text": [
      "The sum of the elements in the list is: 15\n"
     ]
    }
   ],
   "source": [
    "def recursive_sum(lst):\n",
    "    if not lst:\n",
    "        return 0\n",
    "    else:\n",
    "        return lst[0] + recursive_sum(lst[1:])\n",
    "numbers = [1, 2, 3, 4, 5]\n",
    "sum_of_numbers = recursive_sum(numbers)\n",
    "\n",
    "print(f\"The sum of the elements in the list is: {sum_of_numbers}\")\n"
   ]
  },
  {
   "cell_type": "raw",
   "id": "b1dbabbd-b027-4782-bb70-65c1152c2ef4",
   "metadata": {},
   "source": [
    "14. Write a recursive function to determine whether a given string is a palindrome."
   ]
  },
  {
   "cell_type": "code",
   "execution_count": 15,
   "id": "6150e06a-d37d-4a90-b484-b9738ae22584",
   "metadata": {},
   "outputs": [
    {
     "name": "stdout",
     "output_type": "stream",
     "text": [
      "The word 'level' is a palindrome.\n"
     ]
    }
   ],
   "source": [
    "def is_palindrome(s):\n",
    "    if len(s) <= 1:\n",
    "        return True\n",
    "    else:\n",
    "        return s[0] == s[-1] and is_palindrome(s[1:-1])\n",
    "word = \"level\"\n",
    "result = is_palindrome(word)\n",
    "\n",
    "if result:\n",
    "    print(f\"The word '{word}' is a palindrome.\")\n",
    "else:\n",
    "    print(f\"The word '{word}' is not a palindrome.\")\n"
   ]
  },
  {
   "cell_type": "raw",
   "id": "cea8b5cc-b01a-4a46-a9a2-2a68d4bc6aff",
   "metadata": {},
   "source": [
    "15.  Implement a recursive function to find the greatest common divisor (GCD) of two positive integers"
   ]
  },
  {
   "cell_type": "code",
   "execution_count": 16,
   "id": "2933f411-20e5-4423-bd2a-6463ac0848b6",
   "metadata": {},
   "outputs": [
    {
     "name": "stdout",
     "output_type": "stream",
     "text": [
      "The GCD of 48 and 18 is: 6\n"
     ]
    }
   ],
   "source": [
    "def gcd(a, b):\n",
    "    if b == 0:\n",
    "        return a\n",
    "    else:\n",
    "        return gcd(b, a % b)\n",
    "num1 = 48\n",
    "num2 = 18\n",
    "result = gcd(num1, num2)\n",
    "\n",
    "print(f\"The GCD of {num1} and {num2} is: {result}\")\n"
   ]
  }
 ],
 "metadata": {
  "kernelspec": {
   "display_name": "Python 3 (ipykernel)",
   "language": "python",
   "name": "python3"
  },
  "language_info": {
   "codemirror_mode": {
    "name": "ipython",
    "version": 3
   },
   "file_extension": ".py",
   "mimetype": "text/x-python",
   "name": "python",
   "nbconvert_exporter": "python",
   "pygments_lexer": "ipython3",
   "version": "3.10.6"
  }
 },
 "nbformat": 4,
 "nbformat_minor": 5
}
